{
 "cells": [
  {
   "cell_type": "code",
   "execution_count": 1,
   "id": "c7385de7",
   "metadata": {},
   "outputs": [],
   "source": [
    "%load_ext autoreload\n",
    "%autoreload 2"
   ]
  },
  {
   "cell_type": "code",
   "execution_count": 2,
   "id": "9b9f73ef",
   "metadata": {},
   "outputs": [],
   "source": [
    "import numpy as np\n",
    "import matplotlib.pyplot as plt\n",
    "import pandas as pd\n",
    "import os \n",
    "import seaborn as sns\n",
    "import sys"
   ]
  },
  {
   "cell_type": "code",
   "execution_count": 3,
   "id": "455541b1",
   "metadata": {},
   "outputs": [],
   "source": [
    "pd.set_option(\"display.max_rows\", 100, \"display.max_columns\", 100)\n",
    "sys.path.append('./src')\n",
    "import data_visualization as dv\n",
    "import data_preprocessing as dp"
   ]
  },
  {
   "cell_type": "code",
   "execution_count": 16,
   "id": "e83a76a5",
   "metadata": {},
   "outputs": [],
   "source": [
    "df_train =pd.read_csv('data/train.csv', index_col = 0, parse_dates=['date'])\n",
    "df_test=pd.read_csv('data/test.csv',index_col = 0, parse_dates=['date'])\n"
   ]
  },
  {
   "cell_type": "code",
   "execution_count": 15,
   "id": "e38dc574",
   "metadata": {},
   "outputs": [
    {
     "data": {
      "text/html": [
       "<div>\n",
       "<style scoped>\n",
       "    .dataframe tbody tr th:only-of-type {\n",
       "        vertical-align: middle;\n",
       "    }\n",
       "\n",
       "    .dataframe tbody tr th {\n",
       "        vertical-align: top;\n",
       "    }\n",
       "\n",
       "    .dataframe thead th {\n",
       "        text-align: right;\n",
       "    }\n",
       "</style>\n",
       "<table border=\"1\" class=\"dataframe\">\n",
       "  <thead>\n",
       "    <tr style=\"text-align: right;\">\n",
       "      <th></th>\n",
       "      <th>date</th>\n",
       "      <th>country</th>\n",
       "      <th>store</th>\n",
       "      <th>product</th>\n",
       "      <th>num_sold</th>\n",
       "    </tr>\n",
       "    <tr>\n",
       "      <th>row_id</th>\n",
       "      <th></th>\n",
       "      <th></th>\n",
       "      <th></th>\n",
       "      <th></th>\n",
       "      <th></th>\n",
       "    </tr>\n",
       "  </thead>\n",
       "  <tbody>\n",
       "    <tr>\n",
       "      <th>0</th>\n",
       "      <td>2017-01-01</td>\n",
       "      <td>Belgium</td>\n",
       "      <td>KaggleMart</td>\n",
       "      <td>Kaggle Advanced Techniques</td>\n",
       "      <td>663</td>\n",
       "    </tr>\n",
       "    <tr>\n",
       "      <th>1</th>\n",
       "      <td>2017-01-01</td>\n",
       "      <td>Belgium</td>\n",
       "      <td>KaggleMart</td>\n",
       "      <td>Kaggle Getting Started</td>\n",
       "      <td>615</td>\n",
       "    </tr>\n",
       "    <tr>\n",
       "      <th>2</th>\n",
       "      <td>2017-01-01</td>\n",
       "      <td>Belgium</td>\n",
       "      <td>KaggleMart</td>\n",
       "      <td>Kaggle Recipe Book</td>\n",
       "      <td>480</td>\n",
       "    </tr>\n",
       "    <tr>\n",
       "      <th>3</th>\n",
       "      <td>2017-01-01</td>\n",
       "      <td>Belgium</td>\n",
       "      <td>KaggleMart</td>\n",
       "      <td>Kaggle for Kids: One Smart Goose</td>\n",
       "      <td>710</td>\n",
       "    </tr>\n",
       "    <tr>\n",
       "      <th>4</th>\n",
       "      <td>2017-01-01</td>\n",
       "      <td>Belgium</td>\n",
       "      <td>KaggleRama</td>\n",
       "      <td>Kaggle Advanced Techniques</td>\n",
       "      <td>240</td>\n",
       "    </tr>\n",
       "  </tbody>\n",
       "</table>\n",
       "</div>"
      ],
      "text/plain": [
       "             date  country       store                           product  \\\n",
       "row_id                                                                     \n",
       "0      2017-01-01  Belgium  KaggleMart        Kaggle Advanced Techniques   \n",
       "1      2017-01-01  Belgium  KaggleMart            Kaggle Getting Started   \n",
       "2      2017-01-01  Belgium  KaggleMart                Kaggle Recipe Book   \n",
       "3      2017-01-01  Belgium  KaggleMart  Kaggle for Kids: One Smart Goose   \n",
       "4      2017-01-01  Belgium  KaggleRama        Kaggle Advanced Techniques   \n",
       "\n",
       "        num_sold  \n",
       "row_id            \n",
       "0            663  \n",
       "1            615  \n",
       "2            480  \n",
       "3            710  \n",
       "4            240  "
      ]
     },
     "execution_count": 15,
     "metadata": {},
     "output_type": "execute_result"
    }
   ],
   "source": [
    "df_train.head()"
   ]
  },
  {
   "cell_type": "code",
   "execution_count": 7,
   "id": "e5455120",
   "metadata": {},
   "outputs": [
    {
     "name": "stdout",
     "output_type": "stream",
     "text": [
      "<class 'pandas.core.frame.DataFrame'>\n",
      "RangeIndex: 70128 entries, 0 to 70127\n",
      "Data columns (total 5 columns):\n",
      " #   Column    Non-Null Count  Dtype \n",
      "---  ------    --------------  ----- \n",
      " 0   date      70128 non-null  object\n",
      " 1   country   70128 non-null  object\n",
      " 2   store     70128 non-null  object\n",
      " 3   product   70128 non-null  object\n",
      " 4   num_sold  70128 non-null  int64 \n",
      "dtypes: int64(1), object(4)\n",
      "memory usage: 2.7+ MB\n"
     ]
    }
   ],
   "source": [
    "df_train.info()"
   ]
  },
  {
   "cell_type": "code",
   "execution_count": 8,
   "id": "597679b4",
   "metadata": {
    "scrolled": false
   },
   "outputs": [
    {
     "name": "stdout",
     "output_type": "stream",
     "text": [
      " Number of duplicates rows : 0, (0.0%)\n"
     ]
    }
   ],
   "source": [
    "dp.check_duplicates(df_train)"
   ]
  },
  {
   "cell_type": "code",
   "execution_count": 9,
   "id": "b738f511",
   "metadata": {},
   "outputs": [
    {
     "data": {
      "text/plain": [
       "store          2\n",
       "product        4\n",
       "country        6\n",
       "num_sold     699\n",
       "date        1461\n",
       "dtype: int64"
      ]
     },
     "execution_count": 9,
     "metadata": {},
     "output_type": "execute_result"
    }
   ],
   "source": [
    "df_train.nunique().sort_values(ascending=True)"
   ]
  },
  {
   "cell_type": "code",
   "execution_count": 23,
   "id": "c6048a46",
   "metadata": {},
   "outputs": [],
   "source": [
    "import matplotlib.cm as cmap\n",
    "import matplotlib.colors as mpl_colors\n",
    "import matplotlib.pyplot as plt\n",
    "import  matplotlib.ticker as ticker\n",
    "def hex_to_rgb(h):\n",
    "    print(h)\n",
    "    h = h.lstrip('#')\n",
    "    return tuple(int(h[i:i+2], 16)/255 for i in (0, 2, 4))\n",
    "cluster_colors_hex = ['#b4d2b1', '#568f8b', '#1d4a60', '#cd7e59', '#ddb247', '#d15252']\n",
    "cluster_colors_rgb = [hex_to_rgb(x) for x in cluster_colors_hex]\n",
    "cmap = mpl_colors.ListedColormap(cluster_colors_rgb)\n",
    "colors = cmap.colors\n",
    "bg_color= '#fdfcf6'\n",
    "custom_params = {\n",
    "    \"axes.spines.right\": False,\n",
    "    \"axes.spines.top\": False,\n",
    "    'grid.alpha':0.3,\n",
    "    'figure.figsize': (16, 6),\n",
    "    'axes.titlesize': 'Large',\n",
    "    'axes.labelsize': 'Large',\n",
    "    'figure.facecolor': bg_color,\n",
    "    'axes.facecolor': bg_color\n",
    "}\n",
    "\n",
    "sns.set_theme(\n",
    "    style='whitegrid',\n",
    "    palette=sns.color_palette(cluster_colors_hex),\n",
    "    rc=custom_params\n",
    ")"
   ]
  },
  {
   "cell_type": "code",
   "execution_count": 24,
   "id": "d6fe5fb8",
   "metadata": {},
   "outputs": [
    {
     "data": {
      "image/png": "[encoded data removed]",
      "text/plain": [
       "<Figure size 1152x432 with 1 Axes>"
      ]
     },
     "metadata": {},
     "output_type": "display_data"
    }
   ],
   "source": [
    "ax = sns.barplot(data=df_train, x='product', y='num_sold', hue='country');\n",
    "\n"
   ]
  },
  {
   "cell_type": "code",
   "execution_count": null,
   "id": "1b282078",
   "metadata": {},
   "outputs": [],
   "source": []
  }
 ],
 "metadata": {
  "kernelspec": {
   "display_name": "Python 3 (ipykernel)",
   "language": "python",
   "name": "python3"
  },
  "language_info": {
   "codemirror_mode": {
    "name": "ipython",
    "version": 3
   },
   "file_extension": ".py",
   "mimetype": "text/x-python",
   "name": "python",
   "nbconvert_exporter": "python",
   "pygments_lexer": "ipython3",
   "version": "3.9.12"
  }
 },
 "nbformat": 4,
 "nbformat_minor": 5
}
